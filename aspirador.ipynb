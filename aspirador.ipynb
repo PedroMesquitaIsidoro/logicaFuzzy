{
  "nbformat": 4,
  "nbformat_minor": 0,
  "metadata": {
    "colab": {
      "provenance": [],
      "authorship_tag": "ABX9TyPSh22xT4Ax92wPLM510Lpr",
      "include_colab_link": true
    },
    "kernelspec": {
      "name": "python3",
      "display_name": "Python 3"
    },
    "language_info": {
      "name": "python"
    }
  },
  "cells": [
    {
      "cell_type": "markdown",
      "metadata": {
        "id": "view-in-github",
        "colab_type": "text"
      },
      "source": [
        "<a href=\"https://colab.research.google.com/github/PedroMesquitaIsidoro/logicaFuzzy/blob/main/aspirador.ipynb\" target=\"_parent\"><img src=\"https://colab.research.google.com/assets/colab-badge.svg\" alt=\"Open In Colab\"/></a>"
      ]
    },
    {
      "cell_type": "code",
      "execution_count": 1,
      "metadata": {
        "colab": {
          "base_uri": "https://localhost:8080/"
        },
        "id": "_dG5kBn7Dyhq",
        "outputId": "0dab31c9-12bd-4007-e210-4515810c1fdf"
      },
      "outputs": [
        {
          "output_type": "stream",
          "name": "stdout",
          "text": [
            "Looking in indexes: https://pypi.org/simple, https://us-python.pkg.dev/colab-wheels/public/simple/\n",
            "Collecting scikit-fuzzy\n",
            "  Downloading scikit-fuzzy-0.4.2.tar.gz (993 kB)\n",
            "\u001b[K     |████████████████████████████████| 993 kB 29.8 MB/s \n",
            "\u001b[?25hRequirement already satisfied: numpy>=1.6.0 in /usr/local/lib/python3.7/dist-packages (from scikit-fuzzy) (1.21.6)\n",
            "Requirement already satisfied: scipy>=0.9.0 in /usr/local/lib/python3.7/dist-packages (from scikit-fuzzy) (1.7.3)\n",
            "Requirement already satisfied: networkx>=1.9.0 in /usr/local/lib/python3.7/dist-packages (from scikit-fuzzy) (2.6.3)\n",
            "Building wheels for collected packages: scikit-fuzzy\n",
            "  Building wheel for scikit-fuzzy (setup.py) ... \u001b[?25l\u001b[?25hdone\n",
            "  Created wheel for scikit-fuzzy: filename=scikit_fuzzy-0.4.2-py3-none-any.whl size=894088 sha256=90671eda44ee690665b67d9f77f80b0b9cdf18d5dc4a83c8df9dba42fb82ab6d\n",
            "  Stored in directory: /root/.cache/pip/wheels/d5/74/fc/38588a3d2e3f34f74588e6daa3aa5b0a322bd6f9420a707131\n",
            "Successfully built scikit-fuzzy\n",
            "Installing collected packages: scikit-fuzzy\n",
            "Successfully installed scikit-fuzzy-0.4.2\n"
          ]
        }
      ],
      "source": [
        "!pip install scikit-fuzzy"
      ]
    },
    {
      "cell_type": "code",
      "source": [
        "import numpy as np\n",
        "import skfuzzy as fuzz\n",
        "from skfuzzy import control as ctrl\n"
      ],
      "metadata": {
        "id": "NGDT9-7cEHGY"
      },
      "execution_count": 2,
      "outputs": []
    },
    {
      "cell_type": "markdown",
      "source": [
        "***Ante e Conse***"
      ],
      "metadata": {
        "id": "iaM_y6NUFWCo"
      }
    },
    {
      "cell_type": "code",
      "source": [
        "superficie = ctrl.Antecedent(np.arange(0, 6, 1), 'superficie')\n",
        "sujeira = ctrl.Antecedent(np.arange(0, 6, 1), 'sujeira')\n"
      ],
      "metadata": {
        "id": "Z-Jh8dppEXNo"
      },
      "execution_count": 17,
      "outputs": []
    },
    {
      "cell_type": "code",
      "source": [
        "succao = ctrl.Consequent(np.arange(0, 11, 1), 'succao')"
      ],
      "metadata": {
        "id": "J-enI7TrFE0x"
      },
      "execution_count": 18,
      "outputs": []
    },
    {
      "cell_type": "markdown",
      "source": [
        " **FUNCAO DE PERTINENCIA**"
      ],
      "metadata": {
        "id": "oLSX9UMAFbqY"
      }
    },
    {
      "cell_type": "code",
      "source": [
        "superficie.automf(number = 3, names = ['facil', 'moderada', 'dificil'])\n",
        "sujeira.automf(number = 3, names = ['leve', 'moderada', 'pesada'])\n"
      ],
      "metadata": {
        "id": "XMymP3qsFReA"
      },
      "execution_count": 19,
      "outputs": []
    },
    {
      "cell_type": "code",
      "source": [
        "succao['baixa'] = fuzz.trimf(succao.universe, [0, 0, 5])\n",
        "succao['media'] = fuzz.trimf(succao.universe, [0, 5, 10])\n",
        "succao['alta'] = fuzz.trimf(succao.universe, [5, 10, 10])\n",
        "succao.view()"
      ],
      "metadata": {
        "colab": {
          "base_uri": "https://localhost:8080/",
          "height": 281
        },
        "id": "h8PoKOSKGR0Z",
        "outputId": "1e7fca62-f719-4fd2-cb7d-1c20bb95b340"
      },
      "execution_count": 20,
      "outputs": [
        {
          "output_type": "display_data",
          "data": {
            "text/plain": [
              "<Figure size 432x288 with 1 Axes>"
            ],
            "image/png": "[encoded data removed]"
          },
          "metadata": {
            "needs_background": "light"
          }
        }
      ]
    },
    {
      "cell_type": "markdown",
      "source": [
        "**REGRAS**"
      ],
      "metadata": {
        "id": "3wAPZ_-jJMWx"
      }
    },
    {
      "cell_type": "code",
      "source": [
        "#REGRAS\n",
        "# SE A SUPERFICIE FOR FACIL E A SUJEIRA FOR LEVE, ENTAO A SUCCAO EH BAIXA\n",
        "# SE A SUPERFICIE FOR MODERADA E A SUJEIRA FOR LEVE, ENTAO A SUCCAO SERA MEDIA\n",
        "# SE A SUPERFICIE FOR DIFICIL OU A SUJEIRA FOR PESADA, ENTAO A SUCCAO SERA ALTA\n",
        "# SE A SUPERFICIE FOR MODERADA ENTAO A SUCCAO SERA MEDIA "
      ],
      "metadata": {
        "id": "MtGSRriSHyxA"
      },
      "execution_count": 21,
      "outputs": []
    },
    {
      "cell_type": "code",
      "source": [
        "regra1 = ctrl.Rule(superficie['facil'] & sujeira['leve'], succao['baixa'])\n",
        "regra2 = ctrl.Rule(superficie['moderada'] & sujeira['leve'], succao['media'])\n",
        "regra3 = ctrl.Rule(superficie['dificil'] | sujeira['pesada'], succao['alta'])\n",
        "regra4 = ctrl.Rule(superficie['moderada'], succao['media'])"
      ],
      "metadata": {
        "id": "B6HuDjvnIZZC"
      },
      "execution_count": 22,
      "outputs": []
    },
    {
      "cell_type": "markdown",
      "source": [
        "**DEFUZZIFICACAO**"
      ],
      "metadata": {
        "id": "tkxh_nUyJOpJ"
      }
    },
    {
      "cell_type": "code",
      "source": [
        "sistema_controle = ctrl.ControlSystem([regra1, regra2, regra3, regra4])\n",
        "sistema = ctrl.ControlSystemSimulation(sistema_controle)"
      ],
      "metadata": {
        "id": "0eY_HRT_JBG5"
      },
      "execution_count": 23,
      "outputs": []
    },
    {
      "cell_type": "code",
      "source": [
        "#lugar dos input aqui\n",
        "sistema.input['superficie'] = 2\n",
        "sistema.input['sujeira'] = 0\n",
        "sistema.compute()\n",
        "print(sistema.output['succao'])\n",
        "succao.view(sim = sistema)"
      ],
      "metadata": {
        "colab": {
          "base_uri": "https://localhost:8080/",
          "height": 298
        },
        "id": "7_G4BhI2JTeu",
        "outputId": "c5c600a8-4917-4be4-e539-21c7c90ea217"
      },
      "execution_count": 25,
      "outputs": [
        {
          "output_type": "stream",
          "name": "stdout",
          "text": [
            "4.904761904761906\n"
          ]
        },
        {
          "output_type": "display_data",
          "data": {
            "text/plain": [
              "<Figure size 432x288 with 1 Axes>"
            ],
            "image/png": "[encoded data removed]"
          },
          "metadata": {
            "needs_background": "light"
          }
        }
      ]
    }
  ]
}